{
 "cells": [
  {
   "cell_type": "code",
   "execution_count": 2,
   "metadata": {},
   "outputs": [],
   "source": [
    "from numpy.random import random \n",
    "\n",
    "def generate(n):\n",
    "    probs = random(n)\n",
    "    probs /= sum(probs)\n",
    "    return {chr(65+i) : probs[i] for i in range(n)}"
   ]
  },
  {
   "cell_type": "code",
   "execution_count": 3,
   "metadata": {},
   "outputs": [],
   "source": [
    "import heapq\n",
    "from collections import namedtuple\n",
    "\n",
    "class Node(namedtuple(\"Node\", [\"left\", \"right\"])):\n",
    "    def walk(self, code, acc):\n",
    "        self.left.walk(code, acc + \"0\")\n",
    "        self.right.walk(code, acc + \"1\")\n",
    "    \n",
    "class Leaf(namedtuple(\"Leaf\", [\"char\"])):\n",
    "    def walk(self, code, acc):\n",
    "        code[self.char] = acc or \"0\"\n",
    "    \n",
    "def huffman_encode(data):\n",
    "    h = []\n",
    "    for ch, prob in data.items():\n",
    "        h.append((prob, len(h), Leaf(ch)))\n",
    "    \n",
    "    heapq.heapify(h)\n",
    "    \n",
    "    count = len(h)\n",
    "    while len(h) > 1:\n",
    "        prob1, _count1, left = heapq.heappop(h)\n",
    "        prob2, _count2, right = heapq.heappop(h)\n",
    "        heapq.heappush(h, (prob1+prob2, count, Node(left, right)))\n",
    "    [(_prob, _count, root)] = h\n",
    "    code = {}\n",
    "    root.walk(code, \"\")\n",
    "    return code"
   ]
  },
  {
   "cell_type": "code",
   "execution_count": null,
   "metadata": {},
   "outputs": [
    {
     "name": "stdout",
     "output_type": "stream",
     "text": [
      "Время работы: 2.9325485229492188e-05 seconds\n",
      "Время работы: 0.0003066062927246094 seconds\n",
      "Время работы: 0.0040511608123779295 seconds\n",
      "Время работы: 0.04068224430084229 seconds\n",
      "Время работы: 0.6576953649520874 seconds\n"
     ]
    }
   ],
   "source": [
    "import time\n",
    "\n",
    "N = [10,100,1000,10000,100000,1000000]\n",
    "result_time = []\n",
    "for n in N:\n",
    "    mean_time = 0\n",
    "    for i in range(10):\n",
    "        data = generate(n)\n",
    "        startTime = time.time()\n",
    "        code = huffman_encode(data)\n",
    "        endTime = time.time()\n",
    "        mean_time += (endTime - startTime)\n",
    "\n",
    "    result_time.append(mean_time/10)\n",
    "    print(\"Время работы:\", mean_time/10, \"seconds\")"
   ]
  },
  {
   "cell_type": "code",
   "execution_count": 92,
   "metadata": {},
   "outputs": [
    {
     "name": "stdout",
     "output_type": "stream",
     "text": [
      "13.324983141409106\n"
     ]
    }
   ],
   "source": [
    "coef = 0\n",
    "for i in range(len(result_time)-1):\n",
    "    coef += result_time[i+1]/result_time[i]\n",
    "print(coef/(len(result_time)-1))"
   ]
  }
 ],
 "metadata": {
  "kernelspec": {
   "display_name": "Python 3",
   "language": "python",
   "name": "python3"
  },
  "language_info": {
   "codemirror_mode": {
    "name": "ipython",
    "version": 3
   },
   "file_extension": ".py",
   "mimetype": "text/x-python",
   "name": "python",
   "nbconvert_exporter": "python",
   "pygments_lexer": "ipython3",
   "version": "3.8.3"
  }
 },
 "nbformat": 4,
 "nbformat_minor": 4
}
