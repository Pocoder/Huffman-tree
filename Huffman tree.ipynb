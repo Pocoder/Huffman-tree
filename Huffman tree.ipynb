{
 "cells": [
  {
   "cell_type": "code",
   "execution_count": 2,
   "metadata": {},
   "outputs": [],
   "source": [
    "from numpy.random import random \n",
    "\n",
    "def generate(n):\n",
    "    probs = random(n)\n",
    "    probs /= sum(probs)\n",
    "    return {chr(65+i) : probs[i] for i in range(n)}"
   ]
  },
  {
   "cell_type": "code",
   "execution_count": 3,
   "metadata": {},
   "outputs": [],
   "source": [
    "import heapq\n",
    "from collections import namedtuple\n",
    "\n",
    "class Node(namedtuple(\"Node\", [\"left\", \"right\"])):\n",
    "    def walk(self, code, acc):\n",
    "        self.left.walk(code, acc + \"0\")\n",
    "        self.right.walk(code, acc + \"1\")\n",
    "    \n",
    "class Leaf(namedtuple(\"Leaf\", [\"char\"])):\n",
    "    def walk(self, code, acc):\n",
    "        code[self.char] = acc or \"0\"\n",
    "    \n",
    "def huffman_encode(data):\n",
    "    h = []\n",
    "    for ch, prob in data.items():\n",
    "        h.append((prob, len(h), Leaf(ch)))\n",
    "    \n",
    "    heapq.heapify(h)\n",
    "    \n",
    "    count = len(h)\n",
    "    while len(h) > 1:\n",
    "        prob1, _count1, left = heapq.heappop(h)\n",
    "        prob2, _count2, right = heapq.heappop(h)\n",
    "        heapq.heappush(h, (prob1+prob2, count, Node(left, right)))\n",
    "    [(_prob, _count, root)] = h\n",
    "    code = {}\n",
    "    root.walk(code, \"\")\n",
    "    return code"
   ]
  },
  {
   "cell_type": "code",
   "execution_count": 13,
   "metadata": {},
   "outputs": [
    {
     "name": "stdout",
     "output_type": "stream",
     "text": [
      "Время работы: 0.003846585750579834 seconds\n",
      "Время работы: 0.00742720365524292 seconds\n",
      "Время работы: 0.014671635627746583 seconds\n",
      "Время работы: 0.03579893112182617 seconds\n",
      "Время работы: 0.07045919895172119 seconds\n"
     ]
    }
   ],
   "source": [
    "import time\n",
    "\n",
    "N = [1000,2000,4000,8000, 16000]\n",
    "result_time = []\n",
    "for n in N:\n",
    "    mean_time = 0\n",
    "    for i in range(20):\n",
    "        data = generate(n)\n",
    "        startTime = time.time()\n",
    "        code = huffman_encode(data)\n",
    "        endTime = time.time()\n",
    "        mean_time += (endTime - startTime)\n",
    "\n",
    "    result_time.append(mean_time/20)\n",
    "    print(\"Время работы:\", mean_time/20, \"seconds\")"
   ]
  },
  {
   "cell_type": "code",
   "execution_count": 14,
   "metadata": {},
   "outputs": [
    {
     "data": {
      "text/plain": [
       "<matplotlib.collections.PathCollection at 0x7f741483a790>"
      ]
     },
     "execution_count": 14,
     "metadata": {},
     "output_type": "execute_result"
    },
    {
     "data": {
      "image/png": "[encoded data removed]",
      "text/plain": [
       "<Figure size 432x288 with 1 Axes>"
      ]
     },
     "metadata": {
      "needs_background": "light"
     },
     "output_type": "display_data"
    }
   ],
   "source": [
    "import matplotlib.pyplot as plt\n",
    "plt.scatter(N,result_time)"
   ]
  },
  {
   "cell_type": "code",
   "execution_count": 5,
   "metadata": {},
   "outputs": [
    {
     "name": "stdout",
     "output_type": "stream",
     "text": [
      "CPU times: user 8.11 s, sys: 24 ms, total: 8.13 s\n",
      "Wall time: 8.13 s\n"
     ]
    }
   ],
   "source": [
    "%%time\n",
    "\n",
    "n=100000\n",
    "for i in range(10):\n",
    "    data = generate(n)\n",
    "    code = huffman_encode(data)"
   ]
  },
  {
   "cell_type": "code",
   "execution_count": 7,
   "metadata": {},
   "outputs": [
    {
     "name": "stdout",
     "output_type": "stream",
     "text": [
      "CPU times: user 5.3 s, sys: 424 ms, total: 5.72 s\n",
      "Wall time: 5.72 s\n"
     ]
    }
   ],
   "source": [
    "%%time\n",
    "\n",
    "samples = []\n",
    "n=1000000\n",
    "for i in range(10):\n",
    "    samples.append(generate(n))"
   ]
  },
  {
   "cell_type": "code",
   "execution_count": 8,
   "metadata": {},
   "outputs": [
    {
     "name": "stdout",
     "output_type": "stream",
     "text": [
      "CPU times: user 2min 2s, sys: 1.2 s, total: 2min 3s\n",
      "Wall time: 2min 3s\n"
     ]
    }
   ],
   "source": [
    "%%time\n",
    "\n",
    "n=1000000\n",
    "for i in range(10):\n",
    "    code = huffman_encode(samples[i])"
   ]
  }
 ],
 "metadata": {
  "kernelspec": {
   "display_name": "Python 3",
   "language": "python",
   "name": "python3"
  },
  "language_info": {
   "codemirror_mode": {
    "name": "ipython",
    "version": 3
   },
   "file_extension": ".py",
   "mimetype": "text/x-python",
   "name": "python",
   "nbconvert_exporter": "python",
   "pygments_lexer": "ipython3",
   "version": "3.8.3"
  }
 },
 "nbformat": 4,
 "nbformat_minor": 4
}
