{
 "cells": [
  {
   "cell_type": "code",
   "execution_count": 50,
   "metadata": {},
   "outputs": [],
   "source": [
    "from numpy.random import random \n",
    "\n",
    "def generate(n):\n",
    "    probs = random(n)\n",
    "    probs /= sum(probs)\n",
    "    return {chr(65+i) : probs[i] for i in range(n)}"
   ]
  },
  {
   "cell_type": "code",
   "execution_count": 51,
   "metadata": {},
   "outputs": [],
   "source": [
    "import heapq\n",
    "from collections import namedtuple\n",
    "\n",
    "class Node(namedtuple(\"Node\", [\"left\", \"right\"])):\n",
    "    def walk(self, code, acc):\n",
    "        self.left.walk(code, acc + \"0\")\n",
    "        self.right.walk(code, acc + \"1\")\n",
    "    \n",
    "class Leaf(namedtuple(\"Leaf\", [\"char\"])):\n",
    "    def walk(self, code, acc):\n",
    "        code[self.char] = acc or \"0\"\n",
    "    \n",
    "def huffman_encode(data):\n",
    "    h = []\n",
    "    for ch, prob in data.items():\n",
    "        h.append((prob, len(h), Leaf(ch)))\n",
    "    \n",
    "    heapq.heapify(h)\n",
    "    \n",
    "    count = len(h)\n",
    "    while len(h) > 1:\n",
    "        prob1, _count1, left = heapq.heappop(h)\n",
    "        prob2, _count2, right = heapq.heappop(h)\n",
    "        heapq.heappush(h, (prob1+prob2, count, Node(left, right)))\n",
    "    [(_prob, _count, root)] = h\n",
    "    code = {}\n",
    "    root.walk(code, \"\")\n",
    "    return code"
   ]
  },
  {
   "cell_type": "code",
   "execution_count": 54,
   "metadata": {},
   "outputs": [
    {
     "name": "stdout",
     "output_type": "stream",
     "text": [
      "Время работы: 0.003880512714385986 seconds\n",
      "Время работы: 0.0096413254737854 seconds\n",
      "Время работы: 0.020937299728393553 seconds\n",
      "Время работы: 0.04137781858444214 seconds\n",
      "Время работы: 0.09543548822402954 seconds\n"
     ]
    }
   ],
   "source": [
    "import time\n",
    "\n",
    "N = [1000,2000,4000,8000, 16000]\n",
    "result_time = []\n",
    "for n in N:\n",
    "    mean_time = 0\n",
    "    for i in range(20):\n",
    "        data = generate(n)\n",
    "        startTime = time.time()\n",
    "        code = huffman_encode(data)\n",
    "        endTime = time.time()\n",
    "        mean_time += (endTime - startTime)\n",
    "\n",
    "    result_time.append(mean_time/20)\n",
    "    print(\"Время работы:\", mean_time/20, \"seconds\")"
   ]
  },
  {
   "cell_type": "code",
   "execution_count": 59,
   "metadata": {},
   "outputs": [
    {
     "name": "stdout",
     "output_type": "stream",
     "text": [
      "T( 2000 ) к T( 1000 )\n",
      "theor 2.2006866637759877\n",
      "practice 2.4845493839107156\n",
      "T( 4000 ) к T( 2000 )\n",
      "theor 2.1823854954722584\n",
      "practice 2.171620467053178\n",
      "T( 8000 ) к T( 4000 )\n",
      "theor 2.1671432438042215\n",
      "practice 1.9762729254111373\n",
      "T( 16000 ) к T( 8000 )\n",
      "theor 2.154252142106506\n",
      "practice 2.3064407812912795\n"
     ]
    },
    {
     "data": {
      "image/png": "[encoded data removed]",
      "text/plain": [
       "<Figure size 432x288 with 1 Axes>"
      ]
     },
     "metadata": {
      "needs_background": "light"
     },
     "output_type": "display_data"
    }
   ],
   "source": [
    "import matplotlib.pyplot as plt\n",
    "import numpy as np\n",
    "fig, ax = plt.subplots()\n",
    "ax.set_title('График зависимости времени выполнения от длины входа')\n",
    "theor_x = list(range(1000, 17000, 1000))\n",
    "theor_y = list()\n",
    "for n in range(1000, 17000, 1000):\n",
    "    theor_y.append(1/1650000 * n*np.log(n))\n",
    "ax.scatter(theor_x, theor_y, label='Теоретические значения')\n",
    "ax.scatter(N,result_time, label='Экспериментальные значения')\n",
    "fig.legend(loc=(0.45, 0.15))\n",
    "ax.set_xlabel('Длина входа')\n",
    "ax.set_ylabel('Время выполнения')\n",
    "for i in range(1, 5):\n",
    "    print('T(',2**i*1000,') к T(', 2**(i-1)*1000,')')\n",
    "    print('theor', theor_y[2**i-1]/theor_y[2**(i-1)-1])\n",
    "    print('practice', result_time[i]/result_time[i-1])\n",
    "    "
   ]
  }
 ],
 "metadata": {
  "kernelspec": {
   "display_name": "Python 3",
   "language": "python",
   "name": "python3"
  },
  "language_info": {
   "codemirror_mode": {
    "name": "ipython",
    "version": 3
   },
   "file_extension": ".py",
   "mimetype": "text/x-python",
   "name": "python",
   "nbconvert_exporter": "python",
   "pygments_lexer": "ipython3",
   "version": "3.8.3"
  }
 },
 "nbformat": 4,
 "nbformat_minor": 4
}
